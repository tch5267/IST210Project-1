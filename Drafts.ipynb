{
 "cells": [
  {
   "cell_type": "markdown",
   "metadata": {},
   "source": [
    "Idea 1: Toll road\n",
    "This idea uses a database system to manage toll boths/payments on toll roads. It is unique as it will need databases to manage the cars going in and out, processing payments etc. This businessed is borrowed. A typical day would include thousands of cars/trucks going in and out of the booth. Table 1 would hold pricing info; i.e. 2 for sedans, 3 for minivans 5 for trucks, 6 for tractor-trailers etc. A 2nd database would hold data pretaining to each lane. i.e. on mondays between 6am-9am, lanes 1-6 will be open for cars, 7-10 for trucks. While on tuesdays between 11am-3pm, lanes 1-3 would be open for cars, while 4-10 for tucks. Table 3 will hold info on payments, i.e. ez-pass ID, credit card numbers, etc. Table 4 would gather satistacl info, i.e. lane 3 in this range on time on this day made x amount of money, it had x amount of cars/trucks etc. Table 5 would gather info on vehicles, plate number, make, model, color etc ![Chart1](https://imgur.com/qOLCuyC.png)\n",
    "\n",
    "Idea 2: Music\n",
    "This idea uses a database system to categorize songs on a music streaming platform. This idea is inspired from platforms like Spotify, Apple Music and Soundcloud, which likely use similar database systems in order to make it easier for the user to navigate large amounts of music in order to find the type of music that interests them.\n",
    "Table 1 -  Song Description - this keeps track of song characteristics that will make it easier for the user to navigate the platform to find the songs or type of music they are looking for. Examples, genre, artist, song name\n",
    "Table 2 - Song Popularity - This keeps track of parameters like how many times a song has been been played, how a song is rated, and what demographics make up the audience for a song. This is useful for creating things like top charts globally or for a specific area, or to help user find popular songs that fit into their musical tastes.\n",
    "Table 3 - Customer Account - This keeps track of properties of a customers account for the platform. This includes things like a customerID, their name and address, their favorite songs, artists, and genres, as well as if they have a membership to the platform or not.\n",
    "Table 4 - Membership Transaction - This will keep track of membership purchases, and would include transaction ID, the cost of the transaction, and what time the membership was purchased to keep track of when the subscription must be renewed.\n",
    "Table 5 - Friends list - This table would hold data about a user's friends that they have added in the app, like the userID of each friend, and the songs and playlists the friend listens to. This will allow the user to find new music through friends that share similar musical tastes to them. ![](https://imgur.com/Ie1Hk6m.png)\n",
    "\n",
    "Idea 3: Gas Station\n",
    "This idea uses a database system to maintain and manage a gas station. A good database system is a very helpful tool for a gas station to keep it organized and professional. A typical day includes hundreds of people coming in and out buying food, drinks, small accessories, and most importantly, gas. The first database will hold employee data. For example, employee ID number, days available for scheduling, their schedule for the week, times clocked in and out, hours worked in the week and monthly hours. Table 2 will be for inventory, i.e. barcodes, what is in stock, prices of each item, etc. Table 4 will keep track of the different locations of the gas stations, i.e. How much each station is selling, buying, money earned and more.\n",
    "Table 1 - Employee Data\n",
    "Table 2 - Inventory\n",
    "Table 3 - Accounting(taxes, sales, insurance etc) \n",
    "Table 4 - Locations\n",
    "Table 5 -  POS\n",
    "![](https://imgur.com/VfnnYWY.png)"
   ]
  },
  {
   "cell_type": "code",
   "execution_count": null,
   "metadata": {},
   "outputs": [],
   "source": []
  }
 ],
 "metadata": {
  "kernelspec": {
   "display_name": "Python 3",
   "language": "python",
   "name": "python3"
  },
  "language_info": {
   "codemirror_mode": {
    "name": "ipython",
    "version": 3
   },
   "file_extension": ".py",
   "mimetype": "text/x-python",
   "name": "python",
   "nbconvert_exporter": "python",
   "pygments_lexer": "ipython3",
   "version": "3.7.3"
  }
 },
 "nbformat": 4,
 "nbformat_minor": 2
}
